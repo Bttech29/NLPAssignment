{
 "cells": [
  {
   "cell_type": "code",
   "execution_count": 24,
   "id": "4428f90a-8e6e-4356-b727-9411d2ac1012",
   "metadata": {},
   "outputs": [
    {
     "name": "stdout",
     "output_type": "stream",
     "text": [
      "Paragraphs: 5\n",
      "Sentences: 12\n",
      "Words: 295\n",
      "characters 1666\n"
     ]
    }
   ],
   "source": [
    "import nltk\n",
    "from nltk.tokenize import sent_tokenize, word_tokenize\n",
    "\n",
    "# sample text\n",
    "\n",
    "text = \"\"\"\n",
    "Natural Language Processing (NLP) is a branch of Artificial Intelligence (AI) that focuses on enabling computers to understand, interpret, and generate human language in a way that is meaningful and useful. It combines concepts from computer science, linguistics, and machine learning to bridge the gap between human communication and computer comprehension.\n",
    "\n",
    "NLP deals with how computers can process large amounts of natural language data, such as text or speech, to perform tasks like translation, sentiment analysis, summarization, question answering, and speech recognition. Unlike programming languages, natural languages are complex, ambiguous, and full of context, which makes NLP a challenging field.\n",
    "\n",
    "At its core, NLP uses linguistic rules along with statistical and machine learning models to break down language into components such as words, sentences, and meaning. For example, tokenization splits text into words, while parsing helps understand grammar and sentence structure. More advanced models apply neural networks and deep learning to capture context, tone, and intent.\n",
    "\n",
    "NLP is widely applied in real-world systems. Examples include chatbots, voice assistants (like Siri and Alexa), translation tools (like Google Translate), spam filters, search engines, and tools that analyze customer feedback. These applications rely on NLP to make interactions between humans and machines more natural.\n",
    "\n",
    "In summary, NLP is the technology that allows machines to “read,” “listen,” and “talk” in human languages. It continues to evolve with advancements in AI, making communication between humans and computers increasingly smooth, accurate, and intelligent.\"\"\"\n",
    "\n",
    "# Count paragraphs \n",
    "\n",
    "paragraphs = text.strip().split(\"\\n\\n\")\n",
    "num_paragraphs = len(paragraphs)\n",
    "\n",
    "# Count sentences\n",
    "\n",
    "sentences = sent_tokenize(text)\n",
    "num_sentences = len(sentences)\n",
    "\n",
    "# Count words\n",
    "\n",
    "words = word_tokenize(text)\n",
    "num_words = len(words)\n",
    "\n",
    "# Count characters \n",
    "num_characters = len(text)\n",
    "\n",
    "\n",
    "print(\"Paragraphs:\", num_paragraphs)\n",
    "print(\"Sentences:\", num_sentences)\n",
    "print(\"Words:\", num_words)\n",
    "print(\"characters\", num_characters)\n",
    "\n"
   ]
  },
  {
   "cell_type": "code",
   "execution_count": null,
   "id": "c055d25a-8221-4019-a4f3-fc60f0e86ede",
   "metadata": {},
   "outputs": [],
   "source": []
  }
 ],
 "metadata": {
  "kernelspec": {
   "display_name": "Python 3 (ipykernel)",
   "language": "python",
   "name": "python3"
  },
  "language_info": {
   "codemirror_mode": {
    "name": "ipython",
    "version": 3
   },
   "file_extension": ".py",
   "mimetype": "text/x-python",
   "name": "python",
   "nbconvert_exporter": "python",
   "pygments_lexer": "ipython3",
   "version": "3.13.5"
  }
 },
 "nbformat": 4,
 "nbformat_minor": 5
}
